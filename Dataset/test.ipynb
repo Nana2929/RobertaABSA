{
 "cells": [
  {
   "cell_type": "code",
   "execution_count": null,
   "metadata": {},
   "outputs": [
    {
     "ename": "",
     "evalue": "",
     "output_type": "error",
     "traceback": [
      "\u001b[1;31mRunning cells with '/home/P76114511/micromamba/envs/robertaabsa/bin/python3' requires ipykernel package.\n",
      "\u001b[1;31mRun the following command to install 'ipykernel' into the Python environment. \n",
      "\u001b[1;31mCommand: 'conda install -p /home/P76114511/micromamba/envs/robertaabsa ipykernel --update-deps --force-reinstall'"
     ]
    }
   ],
   "source": [
    "import utils\n",
    "# utils.dependencies2format()"
   ]
  },
  {
   "cell_type": "code",
   "execution_count": null,
   "metadata": {},
   "outputs": [],
   "source": []
  }
 ],
 "metadata": {
  "kernelspec": {
   "display_name": "Python 3",
   "language": "python",
   "name": "python3"
  },
  "language_info": {
   "name": "python",
   "version": "3.7.12 | packaged by conda-forge | (default, Oct 26 2021, 06:08:21) \n[GCC 9.4.0]"
  },
  "orig_nbformat": 4,
  "vscode": {
   "interpreter": {
    "hash": "8f15f94517ce87c26544a4792b8667476b49f92aae11b3b3ed8b2a46b6e2b163"
   }
  }
 },
 "nbformat": 4,
 "nbformat_minor": 2
}
